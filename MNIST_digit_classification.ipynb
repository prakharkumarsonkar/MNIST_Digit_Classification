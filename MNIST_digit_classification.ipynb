{
  "cells": [
    {
      "cell_type": "markdown",
      "metadata": {
        "id": "k1P4T4ojJnUX"
      },
      "source": [
        "**MNIST Handwritten Digit Classification Using Deep Learning**"
      ]
    },
    {
      "cell_type": "markdown",
      "metadata": {
        "id": "VPUKfCZNP6CS"
      },
      "source": [
        "# Importing Packages"
      ]
    },
    {
      "cell_type": "code",
      "execution_count": null,
      "metadata": {
        "id": "R1nN7KyMQXTI"
      },
      "outputs": [],
      "source": [
        "from matplotlib import pyplot as plt\n",
        "from scipy.ndimage.interpolation import shift\n",
        "import numpy as np\n",
        "%matplotlib inline\n",
        "from IPython.display import Image\n",
        "\n",
        "import keras\n",
        "from keras.datasets import mnist\n",
        "from keras.models import Model\n",
        "from keras.layers import Input, Dense, Flatten, Conv2D, MaxPooling2D, Dropout\n",
        "from keras.models import Sequential\n",
        "from tensorflow.keras.layers import BatchNormalization\n",
        "from keras.wrappers.scikit_learn import KerasClassifier\n",
        "from sklearn.model_selection import GridSearchCV\n",
        "from keras.utils import to_categorical\n",
        "\n",
        "from sklearn.model_selection import train_test_split\n",
        "from sklearn.metrics import classification_report, confusion_matrix, accuracy_score\n",
        "\n",
        "import warnings\n",
        "warnings.simplefilter('ignore')"
      ]
    },
    {
      "cell_type": "markdown",
      "metadata": {
        "id": "NHuPbWMNQCKb"
      },
      "source": [
        "# Loading Data from MNIST"
      ]
    },
    {
      "cell_type": "code",
      "execution_count": null,
      "metadata": {
        "colab": {
          "base_uri": "https://localhost:8080/"
        },
        "id": "BsNbwHo3Nf0J",
        "outputId": "8c2c5fb0-5096-4e71-d4da-c374bc0bbb41"
      },
      "outputs": [
        {
          "name": "stdout",
          "output_type": "stream",
          "text": [
            "Training set (images) shape: (60000, 28, 28)\n",
            "Training set (labels) shape: (60000,)\n",
            "Test set (images) shape: (10000, 28, 28)\n",
            "Test set (labels) shape: (10000,)\n"
          ]
        }
      ],
      "source": [
        "(train_data, train_labels), (test_data, test_labels) = mnist.load_data()\n",
        "\n",
        "# Shapes of training set and labels\n",
        "print(\"Training set (images) shape: {shape}\".format(shape=train_data.shape))\n",
        "print(\"Training set (labels) shape: {shape}\".format(shape=train_labels.shape))\n",
        "\n",
        "# Shapes of test set and labels\n",
        "print(\"Test set (images) shape: {shape}\".format(shape=test_data.shape))\n",
        "print(\"Test set (labels) shape: {shape}\".format(shape=test_labels.shape))"
      ]
    },
    {
      "cell_type": "markdown",
      "metadata": {
        "id": "PPZiBp4QSwyb"
      },
      "source": [
        "# Data Exploration"
      ]
    },
    {
      "cell_type": "code",
      "execution_count": null,
      "metadata": {
        "colab": {
          "base_uri": "https://localhost:8080/",
          "height": 208
        },
        "id": "wEOvO08zNm0k",
        "outputId": "cf3d2218-e680-46d7-e56c-da8c5347c3e6"
      },
      "outputs": [
        {
          "data": {
            "text/plain": [
              "<matplotlib.image.AxesImage at 0x7eff77d6cb20>"
            ]
          },
          "execution_count": 44,
          "metadata": {},
          "output_type": "execute_result"
        },
        {
          "data": {
            "image/png": "[encoded data removed]",
            "text/plain": [
              "<Figure size 360x360 with 2 Axes>"
            ]
          },
          "metadata": {},
          "output_type": "display_data"
        }
      ],
      "source": [
        "# Create dictionary of target classes\n",
        "label_dict = {0: 'A', 1: 'B', 2: 'C', 3: 'D', 4: 'E', 5: 'F', 6: 'G', 7: 'H', 8: 'I', 9: 'J'}\n",
        "\n",
        "plt.figure(figsize=[5,5])\n",
        "\n",
        "# Display the first image in training data\n",
        "plt.subplot(121)\n",
        "curr_img = np.reshape(train_data[0], (28, 28))\n",
        "curr_lbl = train_labels[0]\n",
        "plt.title(\"(Train Label: \" + str(label_dict[curr_lbl]) + \")\")\n",
        "plt.imshow(curr_img, cmap='gray')\n",
        "\n",
        "# Display the first image in testing data\n",
        "plt.subplot(122)\n",
        "curr_img = np.reshape(test_data[0], (28, 28))\n",
        "curr_lbl = test_labels[0]\n",
        "plt.title(\"(Test Label: \" + str(label_dict[curr_lbl]) + \")\")\n",
        "plt.imshow(curr_img, cmap='gray')"
      ]
    },
    {
      "cell_type": "code",
      "execution_count": null,
      "metadata": {
        "colab": {
          "base_uri": "https://localhost:8080/",
          "height": 282
        },
        "id": "VVnURCOhqmVZ",
        "outputId": "1d433cd2-858d-4308-f2c8-42bb6bd6e77c"
      },
      "outputs": [
        {
          "data": {
            "text/plain": [
              "<matplotlib.image.AxesImage at 0x7eff77cef130>"
            ]
          },
          "execution_count": 45,
          "metadata": {},
          "output_type": "execute_result"
        },
        {
          "data": {
            "image/png": "[encoded data removed]",
            "text/plain": [
              "<Figure size 432x288 with 1 Axes>"
            ]
          },
          "metadata": {},
          "output_type": "display_data"
        }
      ],
      "source": [
        "a=train_data[0]\n",
        "plt.imshow(a, cmap='gray')"
      ]
    },
    {
      "cell_type": "code",
      "execution_count": null,
      "metadata": {
        "colab": {
          "base_uri": "https://localhost:8080/"
        },
        "id": "RrD4iVqouTQQ",
        "outputId": "dd86a791-6c35-4f68-9f90-4e9041670b16"
      },
      "outputs": [
        {
          "data": {
            "text/plain": [
              "(2, 3, 2)"
            ]
          },
          "execution_count": 34,
          "metadata": {},
          "output_type": "execute_result"
        }
      ],
      "source": [
        "m = 3\n",
        "n = 4\n",
        "a = np.empty((m,n))\n",
        "a.shape\n",
        "b = a.reshape(2, -1, 2)\n",
        "b.shape\n"
      ]
    },
    {
      "cell_type": "markdown",
      "metadata": {
        "id": "ZFMevk02U0QO"
      },
      "source": [
        "# Data Preprocessing"
      ]
    },
    {
      "cell_type": "code",
      "execution_count": null,
      "metadata": {
        "colab": {
          "base_uri": "https://localhost:8080/"
        },
        "id": "tofm1Q3jNm6y",
        "outputId": "37542419-5f5c-481a-99d2-4c777db34bbf"
      },
      "outputs": [
        {
          "name": "stdout",
          "output_type": "stream",
          "text": [
            "Shape of training and testing data :(60000, 28, 28, 1), (10000, 28, 28, 1)\n",
            "train/ test data type ==> float32 float32\n",
            "Maximum pixel value of the training and testing data: 255.0, 255.0\n",
            "Maximum pixel value of the training and testing data after rescaling: 1.0, 1.0\n"
          ]
        }
      ],
      "source": [
        "# Convert each 28 x 28 image of train and test set into a matrix of size 28 x 28 x 1, that can be feed into the network\n",
        "train_data = train_data.reshape(-1, 28, 28, 1)\n",
        "test_data = test_data.reshape(-1, 28, 28, 1)\n",
        "print('Shape of training and testing data :{}, {}'.format(train_data.shape, test_data.shape))\n",
        "\n",
        "# Converting the data type of the training and testing data to float32\n",
        "train_data = train_data.astype('float32')\n",
        "test_data = test_data.astype('float32')\n",
        "# Checking the data type of the training and testing data\n",
        "print(\"train/ test data type ==>\", train_data.dtype, test_data.dtype)\n",
        "\n",
        "# Finding maximum pixel value of the training and testing data\n",
        "max_train, max_test = np.max(train_data), np.max(test_data)\n",
        "print('Maximum pixel value of the training and testing data: {}, {}'.format(max_train, max_test))\n",
        "\n",
        "# Normalizing the data to help with the training\n",
        "train_data = train_data / max_train\n",
        "test_data = test_data / max_test\n",
        "\n",
        "# Checking maximum pixel value of the training and testing data after rescaling\n",
        "max_train, max_test = np.max(train_data), np.max(test_data)\n",
        "print('Maximum pixel value of the training and testing data after rescaling: {}, {}'.format(max_train, max_test))"
      ]
    },
    {
      "cell_type": "markdown",
      "metadata": {
        "id": "v3rMaxYvVp-1"
      },
      "source": [
        "# Prepare training, validation and test dataset"
      ]
    },
    {
      "cell_type": "code",
      "execution_count": null,
      "metadata": {
        "colab": {
          "base_uri": "https://localhost:8080/"
        },
        "id": "dbR8WheiNm8_",
        "outputId": "14f1f7ab-b91a-40f8-c97d-13b0f0a030f2"
      },
      "outputs": [
        {
          "name": "stdout",
          "output_type": "stream",
          "text": [
            "Original label: 5\n",
            "After conversion to one-hot: [0. 0. 0. 0. 0. 1. 0. 0. 0. 0.]\n",
            "\n",
            "Dimensions of train/ validation/ testing inputs/ outputs ==>\n"
          ]
        },
        {
          "data": {
            "text/plain": [
              "((48000, 28, 28, 1),\n",
              " (12000, 28, 28, 1),\n",
              " (10000, 28, 28, 1),\n",
              " (48000, 10),\n",
              " (12000, 10),\n",
              " (10000, 10))"
            ]
          },
          "execution_count": 47,
          "metadata": {},
          "output_type": "execute_result"
        }
      ],
      "source": [
        "# One-hot encoding\n",
        "train_Y_one_hot = to_categorical(train_labels)\n",
        "test_Y_one_hot = to_categorical(test_labels)\n",
        "\n",
        "# Display the change for category label using one-hot encoding\n",
        "print('Original label:', train_labels[0])\n",
        "print('After conversion to one-hot:', train_Y_one_hot[0])\n",
        "\n",
        "# Splitting the data into training and validation set, split ratio-80%:20%\n",
        "train_X, valid_X, train_label, valid_label = train_test_split(train_data, train_Y_one_hot, test_size=0.2, random_state=13)\n",
        "print(\"\\nDimensions of train/ validation/ testing inputs/ outputs ==>\")\n",
        "train_X.shape, valid_X.shape, test_data.shape, train_label.shape, valid_label.shape, test_Y_one_hot.shape"
      ]
    },
    {
      "cell_type": "markdown",
      "metadata": {
        "id": "1WRoi71AQu4V"
      },
      "source": [
        "# Define deep learning model using cross_entropy loss function and rms prop"
      ]
    },
    {
      "cell_type": "code",
      "execution_count": null,
      "metadata": {
        "colab": {
          "base_uri": "https://localhost:8080/"
        },
        "id": "_FHqto1UNnBO",
        "outputId": "714070a9-7f88-44c9-919e-b36d827fd776"
      },
      "outputs": [
        {
          "name": "stdout",
          "output_type": "stream",
          "text": [
            "Model: \"sequential\"\n",
            "_________________________________________________________________\n",
            " Layer (type)                Output Shape              Param #   \n",
            "=================================================================\n",
            " conv2d (Conv2D)             (None, 28, 28, 32)        320       \n",
            "                                                                 \n",
            " max_pooling2d (MaxPooling2D  (None, 14, 14, 32)       0         \n",
            " )                                                               \n",
            "                                                                 \n",
            " conv2d_1 (Conv2D)           (None, 14, 14, 64)        18496     \n",
            "                                                                 \n",
            " max_pooling2d_1 (MaxPooling  (None, 7, 7, 64)         0         \n",
            " 2D)                                                             \n",
            "                                                                 \n",
            " flatten (Flatten)           (None, 3136)              0         \n",
            "                                                                 \n",
            " dense (Dense)               (None, 64)                200768    \n",
            "                                                                 \n",
            " dense_1 (Dense)             (None, 10)                650       \n",
            "                                                                 \n",
            "=================================================================\n",
            "Total params: 220,234\n",
            "Trainable params: 220,234\n",
            "Non-trainable params: 0\n",
            "_________________________________________________________________\n"
          ]
        }
      ],
      "source": [
        "# build the model object\n",
        "model = Sequential()\n",
        "\n",
        "\n",
        "# CONV_1: add CONV layer with RELU activation and depth = 32 kernels\n",
        "model.add(Conv2D(32, kernel_size=(3, 3), padding='same',activation='relu',input_shape=(28,28,1)))\n",
        "# POOL_1: downsample the image to choose the best features \n",
        "model.add(MaxPooling2D(pool_size=(2, 2)))\n",
        "\n",
        "# CONV_2: here we increase the depth to 64\n",
        "model.add(Conv2D(64, (3, 3),padding='same', activation='relu'))\n",
        "# POOL_2: more downsampling\n",
        "model.add(MaxPooling2D(pool_size=(2, 2)))\n",
        "\n",
        "# flatten since too many dimensions, we only want a classification output\n",
        "model.add(Flatten())\n",
        "\n",
        "# FC_1: fully connected to get all relevant data\n",
        "model.add(Dense(64, activation='relu'))\n",
        "\n",
        "# FC_2: output a softmax to squash the matrix into output probabilities for the 10 classes\n",
        "model.add(Dense(10, activation='softmax'))\n",
        "\n",
        "model.summary()"
      ]
    },
    {
      "cell_type": "code",
      "execution_count": null,
      "metadata": {
        "colab": {
          "base_uri": "https://localhost:8080/"
        },
        "id": "kcjkz5cu10jf",
        "outputId": "639db255-9712-4766-8c03-46060182b4f7"
      },
      "outputs": [
        {
          "data": {
            "text/plain": [
              "keras.engine.sequential.Sequential"
            ]
          },
          "execution_count": 39,
          "metadata": {},
          "output_type": "execute_result"
        }
      ],
      "source": [
        "type(model)"
      ]
    },
    {
      "cell_type": "markdown",
      "metadata": {
        "id": "_yEAoAoH88pI"
      },
      "source": [
        "# Compile the model"
      ]
    },
    {
      "cell_type": "code",
      "execution_count": null,
      "metadata": {
        "id": "D-Qxopeh2z_1"
      },
      "outputs": [],
      "source": [
        "model.compile(loss='categorical_crossentropy', optimizer='rmsprop', metrics=['accuracy'])"
      ]
    },
    {
      "cell_type": "code",
      "execution_count": null,
      "metadata": {
        "colab": {
          "background_save": true,
          "base_uri": "https://localhost:8080/"
        },
        "id": "Bf6sTKOUNnFy",
        "outputId": "9d85b306-f6ce-4801-d524-e99f6d4ba2eb"
      },
      "outputs": [
        {
          "name": "stdout",
          "output_type": "stream",
          "text": [
            "Epoch 1/12\n",
            "\n",
            "Epoch 1: val_loss improved from inf to 0.06755, saving model to model.weights.best.hdf5\n",
            "1500/1500 - 73s - loss: 0.1534 - accuracy: 0.9523 - val_loss: 0.0675 - val_accuracy: 0.9788 - 73s/epoch - 48ms/step\n",
            "Epoch 2/12\n",
            "\n",
            "Epoch 2: val_loss improved from 0.06755 to 0.04456, saving model to model.weights.best.hdf5\n",
            "1500/1500 - 71s - loss: 0.0476 - accuracy: 0.9854 - val_loss: 0.0446 - val_accuracy: 0.9860 - 71s/epoch - 48ms/step\n",
            "Epoch 3/12\n",
            "\n",
            "Epoch 3: val_loss improved from 0.04456 to 0.03972, saving model to model.weights.best.hdf5\n",
            "1500/1500 - 66s - loss: 0.0321 - accuracy: 0.9903 - val_loss: 0.0397 - val_accuracy: 0.9890 - 66s/epoch - 44ms/step\n",
            "Epoch 4/12\n",
            "\n",
            "Epoch 4: val_loss did not improve from 0.03972\n",
            "1500/1500 - 72s - loss: 0.0238 - accuracy: 0.9930 - val_loss: 0.0428 - val_accuracy: 0.9887 - 72s/epoch - 48ms/step\n",
            "Epoch 5/12\n",
            "\n",
            "Epoch 5: val_loss improved from 0.03972 to 0.03906, saving model to model.weights.best.hdf5\n",
            "1500/1500 - 68s - loss: 0.0195 - accuracy: 0.9941 - val_loss: 0.0391 - val_accuracy: 0.9898 - 68s/epoch - 45ms/step\n",
            "Epoch 6/12\n",
            "\n",
            "Epoch 6: val_loss did not improve from 0.03906\n",
            "1500/1500 - 67s - loss: 0.0139 - accuracy: 0.9960 - val_loss: 0.0495 - val_accuracy: 0.9883 - 67s/epoch - 45ms/step\n",
            "Epoch 7/12\n",
            "\n",
            "Epoch 7: val_loss did not improve from 0.03906\n",
            "1500/1500 - 74s - loss: 0.0127 - accuracy: 0.9967 - val_loss: 0.0431 - val_accuracy: 0.9889 - 74s/epoch - 49ms/step\n",
            "Epoch 8/12\n",
            "\n",
            "Epoch 8: val_loss did not improve from 0.03906\n",
            "1500/1500 - 68s - loss: 0.0095 - accuracy: 0.9975 - val_loss: 0.0449 - val_accuracy: 0.9902 - 68s/epoch - 46ms/step\n",
            "Epoch 9/12\n",
            "\n",
            "Epoch 9: val_loss did not improve from 0.03906\n",
            "1500/1500 - 67s - loss: 0.0082 - accuracy: 0.9982 - val_loss: 0.0475 - val_accuracy: 0.9904 - 67s/epoch - 45ms/step\n",
            "Epoch 10/12\n",
            "\n",
            "Epoch 10: val_loss did not improve from 0.03906\n",
            "1500/1500 - 71s - loss: 0.0069 - accuracy: 0.9984 - val_loss: 0.0599 - val_accuracy: 0.9898 - 71s/epoch - 47ms/step\n",
            "Epoch 11/12\n",
            "\n",
            "Epoch 11: val_loss did not improve from 0.03906\n",
            "1500/1500 - 66s - loss: 0.0053 - accuracy: 0.9987 - val_loss: 0.0507 - val_accuracy: 0.9915 - 66s/epoch - 44ms/step\n",
            "Epoch 12/12\n",
            "\n",
            "Epoch 12: val_loss did not improve from 0.03906\n",
            "1500/1500 - 63s - loss: 0.0045 - accuracy: 0.9988 - val_loss: 0.0621 - val_accuracy: 0.9908 - 63s/epoch - 42ms/step\n"
          ]
        }
      ],
      "source": [
        "from keras.callbacks import ModelCheckpoint   \n",
        "\n",
        "# train the model\n",
        "checkpointer = ModelCheckpoint(filepath='model.weights.best.hdf5', verbose=1, \n",
        "                               save_best_only=True)\n",
        "hist = model.fit(train_X, train_label, batch_size=32, epochs=12,\n",
        "          validation_data=(valid_X, valid_label), callbacks=[checkpointer], \n",
        "          verbose=2, shuffle=True)"
      ]
    },
    {
      "cell_type": "code",
      "execution_count": null,
      "metadata": {
        "id": "JIjFX3EADRES"
      },
      "outputs": [],
      "source": [
        "# load the weights that yielded the best validation accuracy\n",
        "model.load_weights('model.weights.best.hdf5')"
      ]
    },
    {
      "cell_type": "code",
      "execution_count": null,
      "metadata": {
        "colab": {
          "base_uri": "https://localhost:8080/",
          "height": 573
        },
        "id": "rhLbaJyDDfpy",
        "outputId": "3b98287b-56f0-42a1-ffbd-b8c4dd9c537f"
      },
      "outputs": [
        {
          "data": {
            "image/png": "[encoded data removed]",
            "text/plain": [
              "<Figure size 432x288 with 1 Axes>"
            ]
          },
          "metadata": {},
          "output_type": "display_data"
        },
        {
          "data": {
            "image/png": "[encoded data removed]",
            "text/plain": [
              "<Figure size 432x288 with 1 Axes>"
            ]
          },
          "metadata": {},
          "output_type": "display_data"
        }
      ],
      "source": [
        "# Plot the accuracy and loss for training and validation dataset\n",
        "accuracy = hist.history['accuracy']\n",
        "val_accuracy = hist.history['val_accuracy']\n",
        "loss = hist.history['loss']\n",
        "val_loss = hist.history['val_loss']\n",
        "\n",
        "plt.plot(range(12), loss, label='Training loss')\n",
        "plt.plot(range(12), val_loss, label='Validation loss')\n",
        "plt.title('Training and validation loss for optimal model')\n",
        "plt.xlabel('epoch')\n",
        "plt.ylabel('loss')\n",
        "plt.legend()\n",
        "plt.show()\n",
        "\n",
        "plt.plot(range(12), accuracy, label='Training accuracy')\n",
        "plt.plot(range(12), val_accuracy, label='Validation accuracy')\n",
        "plt.title('Training and validation accuracy for optimal model')\n",
        "plt.xlabel('epoch')\n",
        "plt.ylabel('accuracy')\n",
        "plt.legend()\n",
        "plt.show()"
      ]
    },
    {
      "cell_type": "markdown",
      "metadata": {
        "id": "nUmz7NloF_js"
      },
      "source": [
        "# Evaluating the optimal model on Test Dataset"
      ]
    },
    {
      "cell_type": "code",
      "execution_count": null,
      "metadata": {
        "colab": {
          "base_uri": "https://localhost:8080/"
        },
        "id": "drphKt-1Ezoo",
        "outputId": "0b602310-0aab-402b-80b1-4820b38b4741"
      },
      "outputs": [
        {
          "name": "stdout",
          "output_type": "stream",
          "text": [
            "Testing loss: 0.034502945840358734\n",
            "Testing accuracy: 0.9890000224113464\n",
            "313/313 [==============================] - 4s 14ms/step\n",
            "Dimension of predicted and test lables ==> (10000,) (10000,)\n"
          ]
        }
      ],
      "source": [
        "test_eval = model.evaluate(test_data, test_Y_one_hot, verbose=0)\n",
        "print('Testing loss:', test_eval[0])\n",
        "print('Testing accuracy:', test_eval[1])\n",
        "\n",
        "# Pedicting labels\n",
        "predicted_classes = model.predict(test_data)\n",
        "predicted_classes = np.argmax(np.round(predicted_classes), axis=1)\n",
        "print(\"Dimension of predicted and test lables ==>\", predicted_classes.shape, test_labels.shape)"
      ]
    },
    {
      "cell_type": "code",
      "execution_count": null,
      "metadata": {
        "colab": {
          "base_uri": "https://localhost:8080/",
          "height": 332
        },
        "id": "ca0Ajsk2E8qx",
        "outputId": "6265e9e8-5646-4af9-cbaa-2e447babaf31"
      },
      "outputs": [
        {
          "name": "stdout",
          "output_type": "stream",
          "text": [
            "Found 9877 correct labels\n",
            "\n"
          ]
        },
        {
          "data": {
            "image/png": "[encoded data removed]",
            "text/plain": [
              "<Figure size 432x288 with 9 Axes>"
            ]
          },
          "metadata": {},
          "output_type": "display_data"
        }
      ],
      "source": [
        "# Plot test images, predicted correctly\n",
        "correct = np.where(predicted_classes==test_labels)[0]\n",
        "print(\"Found %d correct labels\\n\" % len(correct))\n",
        "for i, correct in enumerate(correct[:9]):\n",
        "    plt.subplot(3, 3, i + 1)\n",
        "    plt.imshow(test_data[correct].reshape(28,28), cmap='gray', interpolation='none')\n",
        "    plt.title(\"Predicted {}, Class {}\".format(predicted_classes[correct], test_labels[correct]))\n",
        "    plt.tight_layout()"
      ]
    },
    {
      "cell_type": "code",
      "execution_count": null,
      "metadata": {
        "colab": {
          "base_uri": "https://localhost:8080/",
          "height": 332
        },
        "id": "XVeJ2b4cFO2-",
        "outputId": "7a07c40c-c7fc-41b3-d445-e077f3b50928"
      },
      "outputs": [
        {
          "name": "stdout",
          "output_type": "stream",
          "text": [
            "Found 123 incorrect labels\n",
            "\n"
          ]
        },
        {
          "data": {
            "image/png": "[encoded data removed]",
            "text/plain": [
              "<Figure size 432x288 with 9 Axes>"
            ]
          },
          "metadata": {},
          "output_type": "display_data"
        }
      ],
      "source": [
        "# Plot test images, predicted incorrectly\n",
        "incorrect = np.where(predicted_classes!=test_labels)[0]\n",
        "print(\"Found %d incorrect labels\\n\" % len(incorrect))\n",
        "for i, incorrect in enumerate(incorrect[:9]):\n",
        "    plt.subplot(3,3,i+1)\n",
        "    plt.imshow(test_data[incorrect].reshape(28,28), cmap='gray', interpolation='none')\n",
        "    plt.title(\"Predicted {}, Class {}\".format(predicted_classes[incorrect], test_labels[incorrect]))\n",
        "    plt.tight_layout()"
      ]
    },
    {
      "cell_type": "markdown",
      "metadata": {
        "id": "lagOj_XnGK5_"
      },
      "source": [
        "# Overall optimal_model accuracy and in-class metrices"
      ]
    },
    {
      "cell_type": "code",
      "execution_count": null,
      "metadata": {
        "colab": {
          "base_uri": "https://localhost:8080/"
        },
        "id": "-heJVms-FWOx",
        "outputId": "352584f4-1171-406f-cae2-77c697c98017"
      },
      "outputs": [
        {
          "name": "stdout",
          "output_type": "stream",
          "text": [
            "Accuracy classification score: 98.77\n",
            "\n",
            "Confusion matrix: \n",
            "\n",
            "[[ 977    0    0    0    0    0    0    1    2    0]\n",
            " [   3 1130    2    0    0    0    0    0    0    0]\n",
            " [   4    2 1023    1    1    0    0    1    0    0]\n",
            " [   0    0    2 1006    0    0    0    1    1    0]\n",
            " [   2    0    0    0  972    0    0    0    3    5]\n",
            " [   4    0    0    8    0  873    1    1    3    2]\n",
            " [  11    2    0    1    4    1  937    0    2    0]\n",
            " [   0    2    8    0    0    1    0 1013    1    3]\n",
            " [   4    0    2    1    0    0    0    1  965    1]\n",
            " [   8    3    0    1    6    4    0    2    4  981]]\n",
            "\n",
            "\n",
            "Classification Report: \n",
            "\n",
            "              precision    recall  f1-score   support\n",
            "\n",
            "     Class 0       0.96      1.00      0.98       980\n",
            "     Class 1       0.99      1.00      0.99      1135\n",
            "     Class 2       0.99      0.99      0.99      1032\n",
            "     Class 3       0.99      1.00      0.99      1010\n",
            "     Class 4       0.99      0.99      0.99       982\n",
            "     Class 5       0.99      0.98      0.99       892\n",
            "     Class 6       1.00      0.98      0.99       958\n",
            "     Class 7       0.99      0.99      0.99      1028\n",
            "     Class 8       0.98      0.99      0.99       974\n",
            "     Class 9       0.99      0.97      0.98      1009\n",
            "\n",
            "    accuracy                           0.99     10000\n",
            "   macro avg       0.99      0.99      0.99     10000\n",
            "weighted avg       0.99      0.99      0.99     10000\n",
            "\n"
          ]
        }
      ],
      "source": [
        "print('Accuracy classification score: {}\\n'.format(accuracy_score(test_labels, predicted_classes)*100))\n",
        "print('Confusion matrix: \\n')\n",
        "print(confusion_matrix(test_labels, predicted_classes))\n",
        "num_classes=10\n",
        "target_names = [\"Class {}\".format(i) for i in range(num_classes)]\n",
        "print('\\n\\nClassification Report: \\n')\n",
        "print(classification_report(test_labels, predicted_classes, target_names=target_names))"
      ]
    }
  ],
  "metadata": {
    "colab": {
      "provenance": []
    },
    "kernelspec": {
      "display_name": "Python 3",
      "name": "python3"
    },
    "language_info": {
      "name": "python"
    }
  },
  "nbformat": 4,
  "nbformat_minor": 0
}